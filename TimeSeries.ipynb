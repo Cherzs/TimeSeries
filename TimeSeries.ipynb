{
  "nbformat": 4,
  "nbformat_minor": 0,
  "metadata": {
    "colab": {
      "provenance": []
    },
    "kernelspec": {
      "name": "python3",
      "display_name": "Python 3"
    },
    "language_info": {
      "name": "python"
    }
  },
  "cells": [
    {
      "cell_type": "markdown",
      "source": [
        "Nama  : Muhammad Zhafran Ghaly\n",
        "\n",
        "ID    : m183x0348\n",
        "\n",
        "\n",
        "Kelas : M02\n",
        "\n",
        "\n",
        "Divisi: Machine Learning and Front-End"
      ],
      "metadata": {
        "id": "34WjsQhkSk_B"
      }
    },
    {
      "cell_type": "code",
      "execution_count": 3,
      "metadata": {
        "id": "I__v6XLBSRi5"
      },
      "outputs": [],
      "source": [
        "import numpy as np\n",
        "import pandas as pd\n",
        "from keras.layers import Dense, LSTM\n",
        "import matplotlib.pyplot as plt\n",
        "import tensorflow as tf\n",
        "import plotly.graph_objects as go\n",
        "from sklearn.model_selection import train_test_split\n",
        "from tensorflow.keras.preprocessing.text import Tokenizer\n",
        "from tensorflow.keras.preprocessing.sequence import pad_sequences\n",
        "from tensorflow.keras.models import Sequential\n",
        "from sklearn.preprocessing import MinMaxScaler"
      ]
    },
    {
      "cell_type": "code",
      "source": [
        "df = pd.read_csv('BTC-USD.csv')\n",
        "df.head(10)"
      ],
      "metadata": {
        "colab": {
          "base_uri": "https://localhost:8080/",
          "height": 363
        },
        "id": "yEwkjSDBTL1j",
        "outputId": "7554f6ba-601d-4f43-a136-a26318dbd288"
      },
      "execution_count": 5,
      "outputs": [
        {
          "output_type": "execute_result",
          "data": {
            "text/plain": [
              "         Date        Open        High         Low       Close   Adj Close  \\\n",
              "0  2014-09-17  465.864014  468.174011  452.421997  457.334015  457.334015   \n",
              "1  2014-09-18  456.859985  456.859985  413.104004  424.440002  424.440002   \n",
              "2  2014-09-19  424.102997  427.834991  384.532013  394.795990  394.795990   \n",
              "3  2014-09-20  394.673004  423.295990  389.882996  408.903992  408.903992   \n",
              "4  2014-09-21  408.084991  412.425995  393.181000  398.821014  398.821014   \n",
              "5  2014-09-22  399.100006  406.915985  397.130005  402.152008  402.152008   \n",
              "6  2014-09-23  402.092010  441.557007  396.196991  435.790985  435.790985   \n",
              "7  2014-09-24  435.751007  436.112000  421.131989  423.204987  423.204987   \n",
              "8  2014-09-25  423.156006  423.519989  409.467987  411.574005  411.574005   \n",
              "9  2014-09-26  411.428986  414.937988  400.009003  404.424988  404.424988   \n",
              "\n",
              "     Volume  \n",
              "0  21056800  \n",
              "1  34483200  \n",
              "2  37919700  \n",
              "3  36863600  \n",
              "4  26580100  \n",
              "5  24127600  \n",
              "6  45099500  \n",
              "7  30627700  \n",
              "8  26814400  \n",
              "9  21460800  "
            ],
            "text/html": [
              "\n",
              "  <div id=\"df-a40a01f8-3aff-43f0-98a8-d59beb6cd50b\">\n",
              "    <div class=\"colab-df-container\">\n",
              "      <div>\n",
              "<style scoped>\n",
              "    .dataframe tbody tr th:only-of-type {\n",
              "        vertical-align: middle;\n",
              "    }\n",
              "\n",
              "    .dataframe tbody tr th {\n",
              "        vertical-align: top;\n",
              "    }\n",
              "\n",
              "    .dataframe thead th {\n",
              "        text-align: right;\n",
              "    }\n",
              "</style>\n",
              "<table border=\"1\" class=\"dataframe\">\n",
              "  <thead>\n",
              "    <tr style=\"text-align: right;\">\n",
              "      <th></th>\n",
              "      <th>Date</th>\n",
              "      <th>Open</th>\n",
              "      <th>High</th>\n",
              "      <th>Low</th>\n",
              "      <th>Close</th>\n",
              "      <th>Adj Close</th>\n",
              "      <th>Volume</th>\n",
              "    </tr>\n",
              "  </thead>\n",
              "  <tbody>\n",
              "    <tr>\n",
              "      <th>0</th>\n",
              "      <td>2014-09-17</td>\n",
              "      <td>465.864014</td>\n",
              "      <td>468.174011</td>\n",
              "      <td>452.421997</td>\n",
              "      <td>457.334015</td>\n",
              "      <td>457.334015</td>\n",
              "      <td>21056800</td>\n",
              "    </tr>\n",
              "    <tr>\n",
              "      <th>1</th>\n",
              "      <td>2014-09-18</td>\n",
              "      <td>456.859985</td>\n",
              "      <td>456.859985</td>\n",
              "      <td>413.104004</td>\n",
              "      <td>424.440002</td>\n",
              "      <td>424.440002</td>\n",
              "      <td>34483200</td>\n",
              "    </tr>\n",
              "    <tr>\n",
              "      <th>2</th>\n",
              "      <td>2014-09-19</td>\n",
              "      <td>424.102997</td>\n",
              "      <td>427.834991</td>\n",
              "      <td>384.532013</td>\n",
              "      <td>394.795990</td>\n",
              "      <td>394.795990</td>\n",
              "      <td>37919700</td>\n",
              "    </tr>\n",
              "    <tr>\n",
              "      <th>3</th>\n",
              "      <td>2014-09-20</td>\n",
              "      <td>394.673004</td>\n",
              "      <td>423.295990</td>\n",
              "      <td>389.882996</td>\n",
              "      <td>408.903992</td>\n",
              "      <td>408.903992</td>\n",
              "      <td>36863600</td>\n",
              "    </tr>\n",
              "    <tr>\n",
              "      <th>4</th>\n",
              "      <td>2014-09-21</td>\n",
              "      <td>408.084991</td>\n",
              "      <td>412.425995</td>\n",
              "      <td>393.181000</td>\n",
              "      <td>398.821014</td>\n",
              "      <td>398.821014</td>\n",
              "      <td>26580100</td>\n",
              "    </tr>\n",
              "    <tr>\n",
              "      <th>5</th>\n",
              "      <td>2014-09-22</td>\n",
              "      <td>399.100006</td>\n",
              "      <td>406.915985</td>\n",
              "      <td>397.130005</td>\n",
              "      <td>402.152008</td>\n",
              "      <td>402.152008</td>\n",
              "      <td>24127600</td>\n",
              "    </tr>\n",
              "    <tr>\n",
              "      <th>6</th>\n",
              "      <td>2014-09-23</td>\n",
              "      <td>402.092010</td>\n",
              "      <td>441.557007</td>\n",
              "      <td>396.196991</td>\n",
              "      <td>435.790985</td>\n",
              "      <td>435.790985</td>\n",
              "      <td>45099500</td>\n",
              "    </tr>\n",
              "    <tr>\n",
              "      <th>7</th>\n",
              "      <td>2014-09-24</td>\n",
              "      <td>435.751007</td>\n",
              "      <td>436.112000</td>\n",
              "      <td>421.131989</td>\n",
              "      <td>423.204987</td>\n",
              "      <td>423.204987</td>\n",
              "      <td>30627700</td>\n",
              "    </tr>\n",
              "    <tr>\n",
              "      <th>8</th>\n",
              "      <td>2014-09-25</td>\n",
              "      <td>423.156006</td>\n",
              "      <td>423.519989</td>\n",
              "      <td>409.467987</td>\n",
              "      <td>411.574005</td>\n",
              "      <td>411.574005</td>\n",
              "      <td>26814400</td>\n",
              "    </tr>\n",
              "    <tr>\n",
              "      <th>9</th>\n",
              "      <td>2014-09-26</td>\n",
              "      <td>411.428986</td>\n",
              "      <td>414.937988</td>\n",
              "      <td>400.009003</td>\n",
              "      <td>404.424988</td>\n",
              "      <td>404.424988</td>\n",
              "      <td>21460800</td>\n",
              "    </tr>\n",
              "  </tbody>\n",
              "</table>\n",
              "</div>\n",
              "      <button class=\"colab-df-convert\" onclick=\"convertToInteractive('df-a40a01f8-3aff-43f0-98a8-d59beb6cd50b')\"\n",
              "              title=\"Convert this dataframe to an interactive table.\"\n",
              "              style=\"display:none;\">\n",
              "        \n",
              "  <svg xmlns=\"http://www.w3.org/2000/svg\" height=\"24px\"viewBox=\"0 0 24 24\"\n",
              "       width=\"24px\">\n",
              "    <path d=\"M0 0h24v24H0V0z\" fill=\"none\"/>\n",
              "    <path d=\"M18.56 5.44l.94 2.06.94-2.06 2.06-.94-2.06-.94-.94-2.06-.94 2.06-2.06.94zm-11 1L8.5 8.5l.94-2.06 2.06-.94-2.06-.94L8.5 2.5l-.94 2.06-2.06.94zm10 10l.94 2.06.94-2.06 2.06-.94-2.06-.94-.94-2.06-.94 2.06-2.06.94z\"/><path d=\"M17.41 7.96l-1.37-1.37c-.4-.4-.92-.59-1.43-.59-.52 0-1.04.2-1.43.59L10.3 9.45l-7.72 7.72c-.78.78-.78 2.05 0 2.83L4 21.41c.39.39.9.59 1.41.59.51 0 1.02-.2 1.41-.59l7.78-7.78 2.81-2.81c.8-.78.8-2.07 0-2.86zM5.41 20L4 18.59l7.72-7.72 1.47 1.35L5.41 20z\"/>\n",
              "  </svg>\n",
              "      </button>\n",
              "      \n",
              "  <style>\n",
              "    .colab-df-container {\n",
              "      display:flex;\n",
              "      flex-wrap:wrap;\n",
              "      gap: 12px;\n",
              "    }\n",
              "\n",
              "    .colab-df-convert {\n",
              "      background-color: #E8F0FE;\n",
              "      border: none;\n",
              "      border-radius: 50%;\n",
              "      cursor: pointer;\n",
              "      display: none;\n",
              "      fill: #1967D2;\n",
              "      height: 32px;\n",
              "      padding: 0 0 0 0;\n",
              "      width: 32px;\n",
              "    }\n",
              "\n",
              "    .colab-df-convert:hover {\n",
              "      background-color: #E2EBFA;\n",
              "      box-shadow: 0px 1px 2px rgba(60, 64, 67, 0.3), 0px 1px 3px 1px rgba(60, 64, 67, 0.15);\n",
              "      fill: #174EA6;\n",
              "    }\n",
              "\n",
              "    [theme=dark] .colab-df-convert {\n",
              "      background-color: #3B4455;\n",
              "      fill: #D2E3FC;\n",
              "    }\n",
              "\n",
              "    [theme=dark] .colab-df-convert:hover {\n",
              "      background-color: #434B5C;\n",
              "      box-shadow: 0px 1px 3px 1px rgba(0, 0, 0, 0.15);\n",
              "      filter: drop-shadow(0px 1px 2px rgba(0, 0, 0, 0.3));\n",
              "      fill: #FFFFFF;\n",
              "    }\n",
              "  </style>\n",
              "\n",
              "      <script>\n",
              "        const buttonEl =\n",
              "          document.querySelector('#df-a40a01f8-3aff-43f0-98a8-d59beb6cd50b button.colab-df-convert');\n",
              "        buttonEl.style.display =\n",
              "          google.colab.kernel.accessAllowed ? 'block' : 'none';\n",
              "\n",
              "        async function convertToInteractive(key) {\n",
              "          const element = document.querySelector('#df-a40a01f8-3aff-43f0-98a8-d59beb6cd50b');\n",
              "          const dataTable =\n",
              "            await google.colab.kernel.invokeFunction('convertToInteractive',\n",
              "                                                     [key], {});\n",
              "          if (!dataTable) return;\n",
              "\n",
              "          const docLinkHtml = 'Like what you see? Visit the ' +\n",
              "            '<a target=\"_blank\" href=https://colab.research.google.com/notebooks/data_table.ipynb>data table notebook</a>'\n",
              "            + ' to learn more about interactive tables.';\n",
              "          element.innerHTML = '';\n",
              "          dataTable['output_type'] = 'display_data';\n",
              "          await google.colab.output.renderOutput(dataTable, element);\n",
              "          const docLink = document.createElement('div');\n",
              "          docLink.innerHTML = docLinkHtml;\n",
              "          element.appendChild(docLink);\n",
              "        }\n",
              "      </script>\n",
              "    </div>\n",
              "  </div>\n",
              "  "
            ]
          },
          "metadata": {},
          "execution_count": 5
        }
      ]
    },
    {
      "cell_type": "code",
      "source": [
        "df.isnull().sum()"
      ],
      "metadata": {
        "colab": {
          "base_uri": "https://localhost:8080/"
        },
        "id": "dJSTPdDVTbdx",
        "outputId": "a057114b-bc7a-4c69-929f-094f2979570a"
      },
      "execution_count": 6,
      "outputs": [
        {
          "output_type": "execute_result",
          "data": {
            "text/plain": [
              "Date         0\n",
              "Open         0\n",
              "High         0\n",
              "Low          0\n",
              "Close        0\n",
              "Adj Close    0\n",
              "Volume       0\n",
              "dtype: int64"
            ]
          },
          "metadata": {},
          "execution_count": 6
        }
      ]
    },
    {
      "cell_type": "code",
      "source": [
        "df.shape"
      ],
      "metadata": {
        "colab": {
          "base_uri": "https://localhost:8080/"
        },
        "id": "MegoZXwGVwem",
        "outputId": "dce6ea8b-a6de-4c46-e53f-984e20162f6a"
      },
      "execution_count": 7,
      "outputs": [
        {
          "output_type": "execute_result",
          "data": {
            "text/plain": [
              "(2713, 7)"
            ]
          },
          "metadata": {},
          "execution_count": 7
        }
      ]
    },
    {
      "cell_type": "code",
      "source": [
        "date = df['Date'].values\n",
        "open = df['Open'].values\n",
        "plt.figure(figsize = (10,10))\n",
        "plt.plot(date, open)\n",
        "plt.title('Open price of BTC',\n",
        "          fontsize = 20);"
      ],
      "metadata": {
        "colab": {
          "base_uri": "https://localhost:8080/",
          "height": 612
        },
        "id": "c8G37LLhi5zi",
        "outputId": "1e719478-7f66-495c-fb25-b99a3c61efe3"
      },
      "execution_count": 8,
      "outputs": [
        {
          "output_type": "display_data",
          "data": {
            "text/plain": [
              "<Figure size 720x720 with 1 Axes>"
            ],
            "image/png": "[encoded data removed]"
          },
          "metadata": {
            "needs_background": "light"
          }
        }
      ]
    },
    {
      "cell_type": "code",
      "source": [
        "cols = [0,1]\n",
        "df = df[df.columns[cols]]\n",
        "df"
      ],
      "metadata": {
        "colab": {
          "base_uri": "https://localhost:8080/",
          "height": 424
        },
        "id": "VM98fRAFTxZi",
        "outputId": "af0ba4c7-8cb7-4ed9-ad92-bbff692c613f"
      },
      "execution_count": 9,
      "outputs": [
        {
          "output_type": "execute_result",
          "data": {
            "text/plain": [
              "            Date          Open\n",
              "0     2014-09-17    465.864014\n",
              "1     2014-09-18    456.859985\n",
              "2     2014-09-19    424.102997\n",
              "3     2014-09-20    394.673004\n",
              "4     2014-09-21    408.084991\n",
              "...          ...           ...\n",
              "2708  2022-02-15  42586.464844\n",
              "2709  2022-02-16  44578.277344\n",
              "2710  2022-02-17  43937.070313\n",
              "2711  2022-02-18  40552.132813\n",
              "2712  2022-02-19  40022.132813\n",
              "\n",
              "[2713 rows x 2 columns]"
            ],
            "text/html": [
              "\n",
              "  <div id=\"df-e0516220-9a7f-4b19-9526-176bd9930241\">\n",
              "    <div class=\"colab-df-container\">\n",
              "      <div>\n",
              "<style scoped>\n",
              "    .dataframe tbody tr th:only-of-type {\n",
              "        vertical-align: middle;\n",
              "    }\n",
              "\n",
              "    .dataframe tbody tr th {\n",
              "        vertical-align: top;\n",
              "    }\n",
              "\n",
              "    .dataframe thead th {\n",
              "        text-align: right;\n",
              "    }\n",
              "</style>\n",
              "<table border=\"1\" class=\"dataframe\">\n",
              "  <thead>\n",
              "    <tr style=\"text-align: right;\">\n",
              "      <th></th>\n",
              "      <th>Date</th>\n",
              "      <th>Open</th>\n",
              "    </tr>\n",
              "  </thead>\n",
              "  <tbody>\n",
              "    <tr>\n",
              "      <th>0</th>\n",
              "      <td>2014-09-17</td>\n",
              "      <td>465.864014</td>\n",
              "    </tr>\n",
              "    <tr>\n",
              "      <th>1</th>\n",
              "      <td>2014-09-18</td>\n",
              "      <td>456.859985</td>\n",
              "    </tr>\n",
              "    <tr>\n",
              "      <th>2</th>\n",
              "      <td>2014-09-19</td>\n",
              "      <td>424.102997</td>\n",
              "    </tr>\n",
              "    <tr>\n",
              "      <th>3</th>\n",
              "      <td>2014-09-20</td>\n",
              "      <td>394.673004</td>\n",
              "    </tr>\n",
              "    <tr>\n",
              "      <th>4</th>\n",
              "      <td>2014-09-21</td>\n",
              "      <td>408.084991</td>\n",
              "    </tr>\n",
              "    <tr>\n",
              "      <th>...</th>\n",
              "      <td>...</td>\n",
              "      <td>...</td>\n",
              "    </tr>\n",
              "    <tr>\n",
              "      <th>2708</th>\n",
              "      <td>2022-02-15</td>\n",
              "      <td>42586.464844</td>\n",
              "    </tr>\n",
              "    <tr>\n",
              "      <th>2709</th>\n",
              "      <td>2022-02-16</td>\n",
              "      <td>44578.277344</td>\n",
              "    </tr>\n",
              "    <tr>\n",
              "      <th>2710</th>\n",
              "      <td>2022-02-17</td>\n",
              "      <td>43937.070313</td>\n",
              "    </tr>\n",
              "    <tr>\n",
              "      <th>2711</th>\n",
              "      <td>2022-02-18</td>\n",
              "      <td>40552.132813</td>\n",
              "    </tr>\n",
              "    <tr>\n",
              "      <th>2712</th>\n",
              "      <td>2022-02-19</td>\n",
              "      <td>40022.132813</td>\n",
              "    </tr>\n",
              "  </tbody>\n",
              "</table>\n",
              "<p>2713 rows × 2 columns</p>\n",
              "</div>\n",
              "      <button class=\"colab-df-convert\" onclick=\"convertToInteractive('df-e0516220-9a7f-4b19-9526-176bd9930241')\"\n",
              "              title=\"Convert this dataframe to an interactive table.\"\n",
              "              style=\"display:none;\">\n",
              "        \n",
              "  <svg xmlns=\"http://www.w3.org/2000/svg\" height=\"24px\"viewBox=\"0 0 24 24\"\n",
              "       width=\"24px\">\n",
              "    <path d=\"M0 0h24v24H0V0z\" fill=\"none\"/>\n",
              "    <path d=\"M18.56 5.44l.94 2.06.94-2.06 2.06-.94-2.06-.94-.94-2.06-.94 2.06-2.06.94zm-11 1L8.5 8.5l.94-2.06 2.06-.94-2.06-.94L8.5 2.5l-.94 2.06-2.06.94zm10 10l.94 2.06.94-2.06 2.06-.94-2.06-.94-.94-2.06-.94 2.06-2.06.94z\"/><path d=\"M17.41 7.96l-1.37-1.37c-.4-.4-.92-.59-1.43-.59-.52 0-1.04.2-1.43.59L10.3 9.45l-7.72 7.72c-.78.78-.78 2.05 0 2.83L4 21.41c.39.39.9.59 1.41.59.51 0 1.02-.2 1.41-.59l7.78-7.78 2.81-2.81c.8-.78.8-2.07 0-2.86zM5.41 20L4 18.59l7.72-7.72 1.47 1.35L5.41 20z\"/>\n",
              "  </svg>\n",
              "      </button>\n",
              "      \n",
              "  <style>\n",
              "    .colab-df-container {\n",
              "      display:flex;\n",
              "      flex-wrap:wrap;\n",
              "      gap: 12px;\n",
              "    }\n",
              "\n",
              "    .colab-df-convert {\n",
              "      background-color: #E8F0FE;\n",
              "      border: none;\n",
              "      border-radius: 50%;\n",
              "      cursor: pointer;\n",
              "      display: none;\n",
              "      fill: #1967D2;\n",
              "      height: 32px;\n",
              "      padding: 0 0 0 0;\n",
              "      width: 32px;\n",
              "    }\n",
              "\n",
              "    .colab-df-convert:hover {\n",
              "      background-color: #E2EBFA;\n",
              "      box-shadow: 0px 1px 2px rgba(60, 64, 67, 0.3), 0px 1px 3px 1px rgba(60, 64, 67, 0.15);\n",
              "      fill: #174EA6;\n",
              "    }\n",
              "\n",
              "    [theme=dark] .colab-df-convert {\n",
              "      background-color: #3B4455;\n",
              "      fill: #D2E3FC;\n",
              "    }\n",
              "\n",
              "    [theme=dark] .colab-df-convert:hover {\n",
              "      background-color: #434B5C;\n",
              "      box-shadow: 0px 1px 3px 1px rgba(0, 0, 0, 0.15);\n",
              "      filter: drop-shadow(0px 1px 2px rgba(0, 0, 0, 0.3));\n",
              "      fill: #FFFFFF;\n",
              "    }\n",
              "  </style>\n",
              "\n",
              "      <script>\n",
              "        const buttonEl =\n",
              "          document.querySelector('#df-e0516220-9a7f-4b19-9526-176bd9930241 button.colab-df-convert');\n",
              "        buttonEl.style.display =\n",
              "          google.colab.kernel.accessAllowed ? 'block' : 'none';\n",
              "\n",
              "        async function convertToInteractive(key) {\n",
              "          const element = document.querySelector('#df-e0516220-9a7f-4b19-9526-176bd9930241');\n",
              "          const dataTable =\n",
              "            await google.colab.kernel.invokeFunction('convertToInteractive',\n",
              "                                                     [key], {});\n",
              "          if (!dataTable) return;\n",
              "\n",
              "          const docLinkHtml = 'Like what you see? Visit the ' +\n",
              "            '<a target=\"_blank\" href=https://colab.research.google.com/notebooks/data_table.ipynb>data table notebook</a>'\n",
              "            + ' to learn more about interactive tables.';\n",
              "          element.innerHTML = '';\n",
              "          dataTable['output_type'] = 'display_data';\n",
              "          await google.colab.output.renderOutput(dataTable, element);\n",
              "          const docLink = document.createElement('div');\n",
              "          docLink.innerHTML = docLinkHtml;\n",
              "          element.appendChild(docLink);\n",
              "        }\n",
              "      </script>\n",
              "    </div>\n",
              "  </div>\n",
              "  "
            ]
          },
          "metadata": {},
          "execution_count": 9
        }
      ]
    },
    {
      "cell_type": "code",
      "source": [
        "open = open.reshape(-1, 1)\n",
        "scaler = MinMaxScaler()\n",
        "scaled_open = scaler.fit_transform(open)\n",
        "scaled_open = scaled_open.reshape(1, -1)\n",
        "scaled_open = np.hstack(scaled_open)\n",
        "scaled_open"
      ],
      "metadata": {
        "colab": {
          "base_uri": "https://localhost:8080/"
        },
        "id": "NdUCBT-XXvXx",
        "outputId": "142b18a0-9198-4dc7-b6ac-f97d8291e080"
      },
      "execution_count": 48,
      "outputs": [
        {
          "output_type": "execute_result",
          "data": {
            "text/plain": [
              "array([0.00428907, 0.00415543, 0.00366922, ..., 0.64952249, 0.59928062,\n",
              "       0.59141395])"
            ]
          },
          "metadata": {},
          "execution_count": 48
        }
      ]
    },
    {
      "cell_type": "code",
      "source": [
        "X_train, X_test, y_train, y_test = train_test_split(\n",
        "                                    date,\n",
        "                                    scaled_open, \n",
        "                                    test_size=0.2, \n",
        "                                    random_state=1, \n",
        "                                    shuffle=False)\n",
        "\n",
        "print(len(X_train), len(X_test))"
      ],
      "metadata": {
        "colab": {
          "base_uri": "https://localhost:8080/"
        },
        "id": "-FFIvUIk-Qt0",
        "outputId": "2a4ab73d-8a60-4a01-9fba-4abc2b7497f0"
      },
      "execution_count": 11,
      "outputs": [
        {
          "output_type": "stream",
          "name": "stdout",
          "text": [
            "2170 543\n"
          ]
        }
      ]
    },
    {
      "cell_type": "code",
      "source": [
        "def windowed_dataset(series, window_size, batch_size, shuffle_buffer):\n",
        "    series = tf.expand_dims(series, axis = -1)\n",
        "    ds = tf.data.Dataset.from_tensor_slices(series)\n",
        "    ds = ds.window(window_size + 1, shift = 1, drop_remainder = True)\n",
        "    ds = ds.flat_map(lambda w: w.batch(window_size + 1))\n",
        "    ds = ds.shuffle(shuffle_buffer)\n",
        "    ds = ds.map(lambda w: (w[:-1], w[-1:]))\n",
        "    return ds.batch(batch_size).prefetch(1)"
      ],
      "metadata": {
        "id": "W8tRL36cYNbT"
      },
      "execution_count": 12,
      "outputs": []
    },
    {
      "cell_type": "code",
      "source": [
        "def model_forecast(model, series, window_size):\n",
        "    ds = tf.data.Dataset.from_tensor_slices(series)\n",
        "    ds = ds.window(window_size, shift = 1, drop_remainder = True)\n",
        "    ds = ds.flat_map(lambda w: w.batch(window_size))\n",
        "    ds = ds.batch(32).prefetch(1)\n",
        "    forecast = model.predict(ds)\n",
        "    return forecast"
      ],
      "metadata": {
        "id": "pdHvtfQ0BDj9"
      },
      "execution_count": 13,
      "outputs": []
    },
    {
      "cell_type": "code",
      "source": [
        "training_set = windowed_dataset(y_train, window_size = 64, \n",
        "                             batch_size = 200, \n",
        "                             shuffle_buffer = 1000)\n",
        "validation_set = windowed_dataset(y_test, window_size=64,\n",
        "                           batch_size=200,\n",
        "                           shuffle_buffer=1000)\n",
        "\n",
        "model = tf.keras.Sequential([\n",
        "   \n",
        "    tf.keras.layers.LSTM(60, return_sequences=True),\n",
        "    tf.keras.layers.LSTM(60),\n",
        "    tf.keras.layers.Dense(30, activation=\"relu\"),\n",
        "    tf.keras.layers.Dense(10, activation=\"relu\"),\n",
        "    tf.keras.layers.Dense(1)\n",
        "])\n",
        "\n",
        "model.compile(loss=\"mean_squared_error\",\n",
        "              optimizer=\"adam\",\n",
        "              metrics=['accuracy'])"
      ],
      "metadata": {
        "id": "uVMbh5grkodW"
      },
      "execution_count": 37,
      "outputs": []
    },
    {
      "cell_type": "code",
      "source": [
        "gauge = (max(scaled_open) - min(scaled_open)) * 0.1\n",
        "print(gauge)"
      ],
      "metadata": {
        "colab": {
          "base_uri": "https://localhost:8080/"
        },
        "id": "Ua15OgiXJfMg",
        "outputId": "4a779c29-8bbe-4473-b290-3631432f3a60"
      },
      "execution_count": 16,
      "outputs": [
        {
          "output_type": "stream",
          "name": "stdout",
          "text": [
            "0.1\n"
          ]
        }
      ]
    },
    {
      "cell_type": "code",
      "source": [
        "class Callbackhx(tf.keras.callbacks.Callback):\n",
        "  def on_epoch_end(self, epoch, logs={}):\n",
        "    if(logs.get('mae') < gauge) and (logs.get('val_mae') < gauge):\n",
        "      self.model.stop_training = True\n",
        "      print('\\nFor Epoch', epoch, ' training has been stopped.''\\n Because MAE of the model has reach < 10% of data scale')\n",
        "callbacks = Callbackhx()"
      ],
      "metadata": {
        "id": "Wx-4bImLeYsg"
      },
      "execution_count": 25,
      "outputs": []
    },
    {
      "cell_type": "code",
      "source": [
        "optimizer = tf.keras.optimizers.SGD(learning_rate = 1.0000e-04, momentum = 0.9)\n",
        "model.compile(loss = tf.keras.losses.Huber(),\n",
        "              optimizer = optimizer,\n",
        "              metrics = [\"mae\"])\n"
      ],
      "metadata": {
        "id": "Pt5KAmwOY599"
      },
      "execution_count": 39,
      "outputs": []
    },
    {
      "cell_type": "code",
      "source": [
        "history = model.fit(\n",
        "    training_set,\n",
        "    epochs = 100, \n",
        "    validation_data = validation_set,\n",
        "    callbacks = [callbacks]\n",
        ")"
      ],
      "metadata": {
        "colab": {
          "base_uri": "https://localhost:8080/"
        },
        "id": "J6v3RNcKj1IT",
        "outputId": "e4e2955b-f761-44b2-b140-0f6400bd7177"
      },
      "execution_count": 42,
      "outputs": [
        {
          "output_type": "stream",
          "name": "stdout",
          "text": [
            "Epoch 1/100\n",
            "11/11 [==============================] - 3s 281ms/step - loss: 5.4635e-04 - mae: 0.0286 - val_loss: 0.0646 - val_mae: 0.3362\n",
            "Epoch 2/100\n",
            "11/11 [==============================] - 3s 242ms/step - loss: 5.4604e-04 - mae: 0.0286 - val_loss: 0.0646 - val_mae: 0.3362\n",
            "Epoch 3/100\n",
            "11/11 [==============================] - 3s 245ms/step - loss: 5.4582e-04 - mae: 0.0286 - val_loss: 0.0645 - val_mae: 0.3361\n",
            "Epoch 4/100\n",
            "11/11 [==============================] - 3s 241ms/step - loss: 5.4556e-04 - mae: 0.0286 - val_loss: 0.0645 - val_mae: 0.3361\n",
            "Epoch 5/100\n",
            "11/11 [==============================] - 3s 242ms/step - loss: 5.4524e-04 - mae: 0.0285 - val_loss: 0.0645 - val_mae: 0.3360\n",
            "Epoch 6/100\n",
            "11/11 [==============================] - 3s 244ms/step - loss: 5.4495e-04 - mae: 0.0285 - val_loss: 0.0645 - val_mae: 0.3360\n",
            "Epoch 7/100\n",
            "11/11 [==============================] - 3s 242ms/step - loss: 5.4469e-04 - mae: 0.0285 - val_loss: 0.0645 - val_mae: 0.3359\n",
            "Epoch 8/100\n",
            "11/11 [==============================] - 3s 245ms/step - loss: 5.4432e-04 - mae: 0.0285 - val_loss: 0.0645 - val_mae: 0.3359\n",
            "Epoch 9/100\n",
            "11/11 [==============================] - 3s 245ms/step - loss: 5.4413e-04 - mae: 0.0285 - val_loss: 0.0644 - val_mae: 0.3358\n",
            "Epoch 10/100\n",
            "11/11 [==============================] - 3s 244ms/step - loss: 5.4383e-04 - mae: 0.0285 - val_loss: 0.0644 - val_mae: 0.3358\n",
            "Epoch 11/100\n",
            "11/11 [==============================] - 3s 245ms/step - loss: 5.4354e-04 - mae: 0.0285 - val_loss: 0.0644 - val_mae: 0.3357\n",
            "Epoch 12/100\n",
            "11/11 [==============================] - 3s 247ms/step - loss: 5.4322e-04 - mae: 0.0285 - val_loss: 0.0644 - val_mae: 0.3356\n",
            "Epoch 13/100\n",
            "11/11 [==============================] - 3s 247ms/step - loss: 5.4302e-04 - mae: 0.0285 - val_loss: 0.0644 - val_mae: 0.3356\n",
            "Epoch 14/100\n",
            "11/11 [==============================] - 3s 242ms/step - loss: 5.4270e-04 - mae: 0.0285 - val_loss: 0.0643 - val_mae: 0.3355\n",
            "Epoch 15/100\n",
            "11/11 [==============================] - 3s 242ms/step - loss: 5.4245e-04 - mae: 0.0285 - val_loss: 0.0643 - val_mae: 0.3355\n",
            "Epoch 16/100\n",
            "11/11 [==============================] - 3s 243ms/step - loss: 5.4209e-04 - mae: 0.0285 - val_loss: 0.0643 - val_mae: 0.3354\n",
            "Epoch 17/100\n",
            "11/11 [==============================] - 3s 238ms/step - loss: 5.4188e-04 - mae: 0.0284 - val_loss: 0.0643 - val_mae: 0.3354\n",
            "Epoch 18/100\n",
            "11/11 [==============================] - 3s 247ms/step - loss: 5.4157e-04 - mae: 0.0284 - val_loss: 0.0642 - val_mae: 0.3353\n",
            "Epoch 19/100\n",
            "11/11 [==============================] - 3s 239ms/step - loss: 5.4136e-04 - mae: 0.0284 - val_loss: 0.0642 - val_mae: 0.3353\n",
            "Epoch 20/100\n",
            "11/11 [==============================] - 3s 248ms/step - loss: 5.4102e-04 - mae: 0.0284 - val_loss: 0.0642 - val_mae: 0.3352\n",
            "Epoch 21/100\n",
            "11/11 [==============================] - 3s 247ms/step - loss: 5.4077e-04 - mae: 0.0284 - val_loss: 0.0642 - val_mae: 0.3351\n",
            "Epoch 22/100\n",
            "11/11 [==============================] - 3s 239ms/step - loss: 5.4048e-04 - mae: 0.0284 - val_loss: 0.0642 - val_mae: 0.3351\n",
            "Epoch 23/100\n",
            "11/11 [==============================] - 3s 242ms/step - loss: 5.4018e-04 - mae: 0.0284 - val_loss: 0.0642 - val_mae: 0.3350\n",
            "Epoch 24/100\n",
            "11/11 [==============================] - 3s 240ms/step - loss: 5.3991e-04 - mae: 0.0284 - val_loss: 0.0641 - val_mae: 0.3350\n",
            "Epoch 25/100\n",
            "11/11 [==============================] - 3s 242ms/step - loss: 5.3969e-04 - mae: 0.0284 - val_loss: 0.0641 - val_mae: 0.3349\n",
            "Epoch 26/100\n",
            "11/11 [==============================] - 3s 241ms/step - loss: 5.3937e-04 - mae: 0.0284 - val_loss: 0.0641 - val_mae: 0.3349\n",
            "Epoch 27/100\n",
            "11/11 [==============================] - 3s 244ms/step - loss: 5.3907e-04 - mae: 0.0284 - val_loss: 0.0641 - val_mae: 0.3348\n",
            "Epoch 28/100\n",
            "11/11 [==============================] - 3s 241ms/step - loss: 5.3879e-04 - mae: 0.0284 - val_loss: 0.0640 - val_mae: 0.3347\n",
            "Epoch 29/100\n",
            "11/11 [==============================] - 3s 239ms/step - loss: 5.3855e-04 - mae: 0.0283 - val_loss: 0.0640 - val_mae: 0.3347\n",
            "Epoch 30/100\n",
            "11/11 [==============================] - 3s 240ms/step - loss: 5.3825e-04 - mae: 0.0283 - val_loss: 0.0640 - val_mae: 0.3346\n",
            "Epoch 31/100\n",
            "11/11 [==============================] - 3s 241ms/step - loss: 5.3797e-04 - mae: 0.0283 - val_loss: 0.0640 - val_mae: 0.3346\n",
            "Epoch 32/100\n",
            "11/11 [==============================] - 3s 245ms/step - loss: 5.3769e-04 - mae: 0.0283 - val_loss: 0.0640 - val_mae: 0.3345\n",
            "Epoch 33/100\n",
            "11/11 [==============================] - 3s 244ms/step - loss: 5.3742e-04 - mae: 0.0283 - val_loss: 0.0639 - val_mae: 0.3345\n",
            "Epoch 34/100\n",
            "11/11 [==============================] - 3s 249ms/step - loss: 5.3713e-04 - mae: 0.0283 - val_loss: 0.0639 - val_mae: 0.3344\n",
            "Epoch 35/100\n",
            "11/11 [==============================] - 3s 245ms/step - loss: 5.3692e-04 - mae: 0.0283 - val_loss: 0.0639 - val_mae: 0.3344\n",
            "Epoch 36/100\n",
            "11/11 [==============================] - 3s 243ms/step - loss: 5.3659e-04 - mae: 0.0283 - val_loss: 0.0639 - val_mae: 0.3343\n",
            "Epoch 37/100\n",
            "11/11 [==============================] - 3s 244ms/step - loss: 5.3633e-04 - mae: 0.0283 - val_loss: 0.0639 - val_mae: 0.3342\n",
            "Epoch 38/100\n",
            "11/11 [==============================] - 3s 248ms/step - loss: 5.3604e-04 - mae: 0.0283 - val_loss: 0.0638 - val_mae: 0.3342\n",
            "Epoch 39/100\n",
            "11/11 [==============================] - 3s 243ms/step - loss: 5.3573e-04 - mae: 0.0283 - val_loss: 0.0638 - val_mae: 0.3341\n",
            "Epoch 40/100\n",
            "11/11 [==============================] - 3s 240ms/step - loss: 5.3548e-04 - mae: 0.0283 - val_loss: 0.0638 - val_mae: 0.3341\n",
            "Epoch 41/100\n",
            "11/11 [==============================] - 3s 241ms/step - loss: 5.3517e-04 - mae: 0.0282 - val_loss: 0.0638 - val_mae: 0.3340\n",
            "Epoch 42/100\n",
            "11/11 [==============================] - 3s 249ms/step - loss: 5.3499e-04 - mae: 0.0282 - val_loss: 0.0638 - val_mae: 0.3340\n",
            "Epoch 43/100\n",
            "11/11 [==============================] - 3s 240ms/step - loss: 5.3465e-04 - mae: 0.0282 - val_loss: 0.0637 - val_mae: 0.3339\n",
            "Epoch 44/100\n",
            "11/11 [==============================] - 3s 250ms/step - loss: 5.3437e-04 - mae: 0.0282 - val_loss: 0.0637 - val_mae: 0.3338\n",
            "Epoch 45/100\n",
            "11/11 [==============================] - 3s 247ms/step - loss: 5.3414e-04 - mae: 0.0282 - val_loss: 0.0637 - val_mae: 0.3338\n",
            "Epoch 46/100\n",
            "11/11 [==============================] - 3s 249ms/step - loss: 5.3382e-04 - mae: 0.0282 - val_loss: 0.0637 - val_mae: 0.3337\n",
            "Epoch 47/100\n",
            "11/11 [==============================] - 3s 247ms/step - loss: 5.3353e-04 - mae: 0.0282 - val_loss: 0.0636 - val_mae: 0.3337\n",
            "Epoch 48/100\n",
            "11/11 [==============================] - 3s 248ms/step - loss: 5.3329e-04 - mae: 0.0282 - val_loss: 0.0636 - val_mae: 0.3336\n",
            "Epoch 49/100\n",
            "11/11 [==============================] - 3s 245ms/step - loss: 5.3299e-04 - mae: 0.0282 - val_loss: 0.0636 - val_mae: 0.3335\n",
            "Epoch 50/100\n",
            "11/11 [==============================] - 3s 245ms/step - loss: 5.3273e-04 - mae: 0.0282 - val_loss: 0.0636 - val_mae: 0.3335\n",
            "Epoch 51/100\n",
            "11/11 [==============================] - 3s 243ms/step - loss: 5.3248e-04 - mae: 0.0282 - val_loss: 0.0636 - val_mae: 0.3334\n",
            "Epoch 52/100\n",
            "11/11 [==============================] - 3s 242ms/step - loss: 5.3219e-04 - mae: 0.0282 - val_loss: 0.0635 - val_mae: 0.3334\n",
            "Epoch 53/100\n",
            "11/11 [==============================] - 3s 241ms/step - loss: 5.3189e-04 - mae: 0.0281 - val_loss: 0.0635 - val_mae: 0.3333\n",
            "Epoch 54/100\n",
            "11/11 [==============================] - 3s 247ms/step - loss: 5.3168e-04 - mae: 0.0281 - val_loss: 0.0635 - val_mae: 0.3333\n",
            "Epoch 55/100\n",
            "11/11 [==============================] - 3s 242ms/step - loss: 5.3134e-04 - mae: 0.0281 - val_loss: 0.0635 - val_mae: 0.3332\n",
            "Epoch 56/100\n",
            "11/11 [==============================] - 3s 240ms/step - loss: 5.3109e-04 - mae: 0.0281 - val_loss: 0.0635 - val_mae: 0.3332\n",
            "Epoch 57/100\n",
            "11/11 [==============================] - 3s 252ms/step - loss: 5.3081e-04 - mae: 0.0281 - val_loss: 0.0634 - val_mae: 0.3331\n",
            "Epoch 58/100\n",
            "11/11 [==============================] - 3s 243ms/step - loss: 5.3048e-04 - mae: 0.0281 - val_loss: 0.0634 - val_mae: 0.3330\n",
            "Epoch 59/100\n",
            "11/11 [==============================] - 3s 245ms/step - loss: 5.3026e-04 - mae: 0.0281 - val_loss: 0.0634 - val_mae: 0.3330\n",
            "Epoch 60/100\n",
            "11/11 [==============================] - 3s 248ms/step - loss: 5.2997e-04 - mae: 0.0281 - val_loss: 0.0634 - val_mae: 0.3329\n",
            "Epoch 61/100\n",
            "11/11 [==============================] - 3s 246ms/step - loss: 5.2964e-04 - mae: 0.0281 - val_loss: 0.0634 - val_mae: 0.3329\n",
            "Epoch 62/100\n",
            "11/11 [==============================] - 3s 250ms/step - loss: 5.2938e-04 - mae: 0.0281 - val_loss: 0.0633 - val_mae: 0.3328\n",
            "Epoch 63/100\n",
            "11/11 [==============================] - 3s 239ms/step - loss: 5.2911e-04 - mae: 0.0281 - val_loss: 0.0633 - val_mae: 0.3327\n",
            "Epoch 64/100\n",
            "11/11 [==============================] - 3s 244ms/step - loss: 5.2881e-04 - mae: 0.0281 - val_loss: 0.0633 - val_mae: 0.3327\n",
            "Epoch 65/100\n",
            "11/11 [==============================] - 3s 240ms/step - loss: 5.2853e-04 - mae: 0.0280 - val_loss: 0.0633 - val_mae: 0.3326\n",
            "Epoch 66/100\n",
            "11/11 [==============================] - 3s 242ms/step - loss: 5.2829e-04 - mae: 0.0280 - val_loss: 0.0633 - val_mae: 0.3326\n",
            "Epoch 67/100\n",
            "11/11 [==============================] - 3s 241ms/step - loss: 5.2801e-04 - mae: 0.0280 - val_loss: 0.0632 - val_mae: 0.3325\n",
            "Epoch 68/100\n",
            "11/11 [==============================] - 3s 245ms/step - loss: 5.2773e-04 - mae: 0.0280 - val_loss: 0.0632 - val_mae: 0.3325\n",
            "Epoch 69/100\n",
            "11/11 [==============================] - 3s 243ms/step - loss: 5.2747e-04 - mae: 0.0280 - val_loss: 0.0632 - val_mae: 0.3324\n",
            "Epoch 70/100\n",
            "11/11 [==============================] - 3s 248ms/step - loss: 5.2722e-04 - mae: 0.0280 - val_loss: 0.0632 - val_mae: 0.3324\n",
            "Epoch 71/100\n",
            "11/11 [==============================] - 3s 239ms/step - loss: 5.2687e-04 - mae: 0.0280 - val_loss: 0.0632 - val_mae: 0.3323\n",
            "Epoch 72/100\n",
            "11/11 [==============================] - 3s 239ms/step - loss: 5.2665e-04 - mae: 0.0280 - val_loss: 0.0631 - val_mae: 0.3323\n",
            "Epoch 73/100\n",
            "11/11 [==============================] - 3s 243ms/step - loss: 5.2630e-04 - mae: 0.0280 - val_loss: 0.0631 - val_mae: 0.3322\n",
            "Epoch 74/100\n",
            "11/11 [==============================] - 3s 244ms/step - loss: 5.2610e-04 - mae: 0.0280 - val_loss: 0.0631 - val_mae: 0.3321\n",
            "Epoch 75/100\n",
            "11/11 [==============================] - 3s 243ms/step - loss: 5.2575e-04 - mae: 0.0280 - val_loss: 0.0631 - val_mae: 0.3321\n",
            "Epoch 76/100\n",
            "11/11 [==============================] - 3s 243ms/step - loss: 5.2555e-04 - mae: 0.0280 - val_loss: 0.0631 - val_mae: 0.3320\n",
            "Epoch 77/100\n",
            "11/11 [==============================] - 3s 247ms/step - loss: 5.2526e-04 - mae: 0.0279 - val_loss: 0.0630 - val_mae: 0.3320\n",
            "Epoch 78/100\n",
            "11/11 [==============================] - 3s 243ms/step - loss: 5.2496e-04 - mae: 0.0279 - val_loss: 0.0630 - val_mae: 0.3319\n",
            "Epoch 79/100\n",
            "11/11 [==============================] - 3s 239ms/step - loss: 5.2466e-04 - mae: 0.0279 - val_loss: 0.0630 - val_mae: 0.3319\n",
            "Epoch 80/100\n",
            "11/11 [==============================] - 3s 242ms/step - loss: 5.2437e-04 - mae: 0.0279 - val_loss: 0.0630 - val_mae: 0.3318\n",
            "Epoch 81/100\n",
            "11/11 [==============================] - 3s 244ms/step - loss: 5.2406e-04 - mae: 0.0279 - val_loss: 0.0629 - val_mae: 0.3317\n",
            "Epoch 82/100\n",
            "11/11 [==============================] - 3s 244ms/step - loss: 5.2386e-04 - mae: 0.0279 - val_loss: 0.0629 - val_mae: 0.3317\n",
            "Epoch 83/100\n",
            "11/11 [==============================] - 3s 244ms/step - loss: 5.2355e-04 - mae: 0.0279 - val_loss: 0.0629 - val_mae: 0.3316\n",
            "Epoch 84/100\n",
            "11/11 [==============================] - 3s 240ms/step - loss: 5.2324e-04 - mae: 0.0279 - val_loss: 0.0629 - val_mae: 0.3315\n",
            "Epoch 85/100\n",
            "11/11 [==============================] - 3s 241ms/step - loss: 5.2302e-04 - mae: 0.0279 - val_loss: 0.0629 - val_mae: 0.3315\n",
            "Epoch 86/100\n",
            "11/11 [==============================] - 3s 242ms/step - loss: 5.2280e-04 - mae: 0.0279 - val_loss: 0.0628 - val_mae: 0.3314\n",
            "Epoch 87/100\n",
            "11/11 [==============================] - 3s 242ms/step - loss: 5.2243e-04 - mae: 0.0279 - val_loss: 0.0628 - val_mae: 0.3314\n",
            "Epoch 88/100\n",
            "11/11 [==============================] - 3s 242ms/step - loss: 5.2214e-04 - mae: 0.0279 - val_loss: 0.0628 - val_mae: 0.3313\n",
            "Epoch 89/100\n",
            "11/11 [==============================] - 3s 240ms/step - loss: 5.2189e-04 - mae: 0.0278 - val_loss: 0.0628 - val_mae: 0.3312\n",
            "Epoch 90/100\n",
            "11/11 [==============================] - 3s 243ms/step - loss: 5.2162e-04 - mae: 0.0278 - val_loss: 0.0628 - val_mae: 0.3312\n",
            "Epoch 91/100\n",
            "11/11 [==============================] - 3s 242ms/step - loss: 5.2136e-04 - mae: 0.0278 - val_loss: 0.0627 - val_mae: 0.3311\n",
            "Epoch 92/100\n",
            "11/11 [==============================] - 3s 242ms/step - loss: 5.2103e-04 - mae: 0.0278 - val_loss: 0.0627 - val_mae: 0.3311\n",
            "Epoch 93/100\n",
            "11/11 [==============================] - 3s 247ms/step - loss: 5.2079e-04 - mae: 0.0278 - val_loss: 0.0627 - val_mae: 0.3310\n",
            "Epoch 94/100\n",
            "11/11 [==============================] - 3s 245ms/step - loss: 5.2054e-04 - mae: 0.0278 - val_loss: 0.0627 - val_mae: 0.3310\n",
            "Epoch 95/100\n",
            "11/11 [==============================] - 3s 239ms/step - loss: 5.2023e-04 - mae: 0.0278 - val_loss: 0.0627 - val_mae: 0.3309\n",
            "Epoch 96/100\n",
            "11/11 [==============================] - 3s 245ms/step - loss: 5.1990e-04 - mae: 0.0278 - val_loss: 0.0626 - val_mae: 0.3309\n",
            "Epoch 97/100\n",
            "11/11 [==============================] - 3s 238ms/step - loss: 5.1963e-04 - mae: 0.0278 - val_loss: 0.0626 - val_mae: 0.3308\n",
            "Epoch 98/100\n",
            "11/11 [==============================] - 3s 242ms/step - loss: 5.1941e-04 - mae: 0.0278 - val_loss: 0.0626 - val_mae: 0.3307\n",
            "Epoch 99/100\n",
            "11/11 [==============================] - 3s 243ms/step - loss: 5.1911e-04 - mae: 0.0278 - val_loss: 0.0626 - val_mae: 0.3307\n",
            "Epoch 100/100\n",
            "11/11 [==============================] - 3s 242ms/step - loss: 5.1878e-04 - mae: 0.0278 - val_loss: 0.0625 - val_mae: 0.3306\n"
          ]
        }
      ]
    },
    {
      "cell_type": "code",
      "source": [
        "plt.plot(history.history['mae'])\n",
        "plt.plot(history.history['val_mae'])\n",
        "plt.title('Model Accuracy')\n",
        "plt.ylabel('Mae')\n",
        "plt.xlabel('epochs')\n",
        "plt.legend(['Train', 'Val'], loc='upper right')\n",
        "plt.show()"
      ],
      "metadata": {
        "colab": {
          "base_uri": "https://localhost:8080/",
          "height": 295
        },
        "id": "iWSd4A5kSTRL",
        "outputId": "a269308a-ca0c-4727-9bac-388c094dde44"
      },
      "execution_count": 43,
      "outputs": [
        {
          "output_type": "display_data",
          "data": {
            "text/plain": [
              "<Figure size 432x288 with 1 Axes>"
            ],
            "image/png": "[encoded data removed]"
          },
          "metadata": {
            "needs_background": "light"
          }
        }
      ]
    },
    {
      "cell_type": "code",
      "source": [
        "plt.plot(history.history['loss'])\n",
        "plt.plot(history.history['val_loss'])\n",
        "plt.title('Loss Model')\n",
        "plt.ylabel('loss')\n",
        "plt.xlabel('epochs')\n",
        "plt.legend(['Train', 'Val'], loc='upper right')\n",
        "plt.show()"
      ],
      "metadata": {
        "colab": {
          "base_uri": "https://localhost:8080/",
          "height": 295
        },
        "id": "OAaa3BBFUDkA",
        "outputId": "de0e2d6e-8641-4d60-8cf7-c815fee65ec0"
      },
      "execution_count": 44,
      "outputs": [
        {
          "output_type": "display_data",
          "data": {
            "text/plain": [
              "<Figure size 432x288 with 1 Axes>"
            ],
            "image/png": "[encoded data removed]"
          },
          "metadata": {
            "needs_background": "light"
          }
        }
      ]
    }
  ]
}